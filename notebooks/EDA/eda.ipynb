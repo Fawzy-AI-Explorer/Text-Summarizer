{
 "cells": [
  {
   "cell_type": "markdown",
   "id": "931b4dac",
   "metadata": {},
   "source": [
    "# EDA"
   ]
  },
  {
   "cell_type": "markdown",
   "id": "9fb42af2",
   "metadata": {},
   "source": [
    "## **1. Setup**"
   ]
  },
  {
   "cell_type": "markdown",
   "id": "8cf34fe3",
   "metadata": {},
   "source": [
    "### 1.1 Import Dependencies"
   ]
  },
  {
   "cell_type": "code",
   "execution_count": 4,
   "id": "ca0ffa34",
   "metadata": {},
   "outputs": [],
   "source": [
    "import pandas as pd\n",
    "import numpy as np\n",
    "import matplotlib.pyplot as plt\n",
    "import seaborn as sns"
   ]
  },
  {
   "cell_type": "markdown",
   "id": "3e5ce628",
   "metadata": {},
   "source": [
    "### 1.2 Set visualization style"
   ]
  },
  {
   "cell_type": "code",
   "execution_count": 5,
   "id": "27ef0d40",
   "metadata": {},
   "outputs": [],
   "source": [
    "sns.set(style=\"whitegrid\")\n",
    "plt.rcParams['figure.figsize'] = (10, 6)"
   ]
  },
  {
   "cell_type": "code",
   "execution_count": null,
   "id": "f4d538c9",
   "metadata": {},
   "outputs": [],
   "source": []
  },
  {
   "cell_type": "markdown",
   "id": "ce6117d7",
   "metadata": {},
   "source": [
    "## **2. Data Loading**"
   ]
  },
  {
   "cell_type": "code",
   "execution_count": 6,
   "id": "e92bb9ca",
   "metadata": {},
   "outputs": [],
   "source": [
    "train_df = pd.read_csv(r'..\\..\\Data\\raw\\cnn_dailymail\\train.csv')\n",
    "test_df = pd.read_csv(r'..\\..\\Data\\raw\\cnn_dailymail\\test.csv')"
   ]
  },
  {
   "cell_type": "code",
   "execution_count": 7,
   "id": "cbd86601",
   "metadata": {},
   "outputs": [
    {
     "data": {
      "text/plain": [
       "287.113"
      ]
     },
     "execution_count": 7,
     "metadata": {},
     "output_type": "execute_result"
    }
   ],
   "source": [
    "train_df.shape\n",
    "\n",
    "287113*0.001"
   ]
  },
  {
   "cell_type": "code",
   "execution_count": 8,
   "id": "622fe501",
   "metadata": {},
   "outputs": [
    {
     "data": {
      "text/plain": [
       "(14356, 3)"
      ]
     },
     "execution_count": 8,
     "metadata": {},
     "output_type": "execute_result"
    }
   ],
   "source": [
    "train = train_df.sample(frac=0.05, random_state=42)\n",
    "train.shape"
   ]
  },
  {
   "cell_type": "code",
   "execution_count": 17,
   "id": "f2b121e2",
   "metadata": {},
   "outputs": [
    {
     "name": "stdout",
     "output_type": "stream",
     "text": [
      "id: 0 text: By . Mia De Graaf . Britons flocked to beaches acr... summary: People enjoyed temperatures of 17C at Brighton bea...\n"
     ]
    }
   ],
   "source": [
    "# [{\"id\": i, \"text\": text} for i, text in enumerate(_df[self.text_column])]\n",
    "\n",
    "for i, text in enumerate(zip(train[\"article\"], train[\"highlights\"])):\n",
    "    print(f\"id: {i} text: {text[0][:50]}... summary: {text[1][:50]}...\")\n",
    "    break"
   ]
  },
  {
   "cell_type": "code",
   "execution_count": 27,
   "id": "099cee38",
   "metadata": {},
   "outputs": [
    {
     "data": {
      "text/html": [
       "<div>\n",
       "<style scoped>\n",
       "    .dataframe tbody tr th:only-of-type {\n",
       "        vertical-align: middle;\n",
       "    }\n",
       "\n",
       "    .dataframe tbody tr th {\n",
       "        vertical-align: top;\n",
       "    }\n",
       "\n",
       "    .dataframe thead th {\n",
       "        text-align: right;\n",
       "    }\n",
       "</style>\n",
       "<table border=\"1\" class=\"dataframe\">\n",
       "  <thead>\n",
       "    <tr style=\"text-align: right;\">\n",
       "      <th></th>\n",
       "      <th>id</th>\n",
       "      <th>article</th>\n",
       "      <th>highlights</th>\n",
       "    </tr>\n",
       "  </thead>\n",
       "  <tbody>\n",
       "    <tr>\n",
       "      <th>0</th>\n",
       "      <td>0001d1afc246a7964130f43ae940af6bc6c57f01</td>\n",
       "      <td>By . Associated Press . PUBLISHED: . 14:11 EST...</td>\n",
       "      <td>Bishop John Folda, of North Dakota, is taking ...</td>\n",
       "    </tr>\n",
       "    <tr>\n",
       "      <th>1</th>\n",
       "      <td>0002095e55fcbd3a2f366d9bf92a95433dc305ef</td>\n",
       "      <td>(CNN) -- Ralph Mata was an internal affairs li...</td>\n",
       "      <td>Criminal complaint: Cop used his role to help ...</td>\n",
       "    </tr>\n",
       "    <tr>\n",
       "      <th>5</th>\n",
       "      <td>0004306354494f090ee2d7bc5ddbf80b63e80de6</td>\n",
       "      <td>He's been accused of making many a fashion fau...</td>\n",
       "      <td>Prime Minister and his family are enjoying an ...</td>\n",
       "    </tr>\n",
       "    <tr>\n",
       "      <th>13</th>\n",
       "      <td>000cd1ee0098c4d510a03ddc97d11764448ebac2</td>\n",
       "      <td>Louis van Gaal said he had no option but to su...</td>\n",
       "      <td>Manchester United beat Southampton 2-1 at St M...</td>\n",
       "    </tr>\n",
       "    <tr>\n",
       "      <th>15</th>\n",
       "      <td>001097a19e2c96de11276b3cce11566ccfed0030</td>\n",
       "      <td>For most people, it has become a travel essent...</td>\n",
       "      <td>Half of Brits admit to checking work e-mails w...</td>\n",
       "    </tr>\n",
       "    <tr>\n",
       "      <th>...</th>\n",
       "      <td>...</td>\n",
       "      <td>...</td>\n",
       "      <td>...</td>\n",
       "    </tr>\n",
       "    <tr>\n",
       "      <th>988</th>\n",
       "      <td>02c600858dcc92bf6b460ad67098f97e1c594f8f</td>\n",
       "      <td>By . Steve Nolan . PUBLISHED: . 00:59 EST, 7 O...</td>\n",
       "      <td>Foreign patients will have to prove they are l...</td>\n",
       "    </tr>\n",
       "    <tr>\n",
       "      <th>994</th>\n",
       "      <td>02c971cf94ad3b1696742544778f06cf8a2b1c23</td>\n",
       "      <td>The owners of a $4million Cincinnati mansion t...</td>\n",
       "      <td>Jeffrey Decker and wife Maria claim their insu...</td>\n",
       "    </tr>\n",
       "    <tr>\n",
       "      <th>996</th>\n",
       "      <td>02ce5810b37842c00ae90b6c7b70dbf686cd865f</td>\n",
       "      <td>By . Leon Watson and Sebastian Lander . PUBLIS...</td>\n",
       "      <td>Figures released by ABTA show Britons took few...</td>\n",
       "    </tr>\n",
       "    <tr>\n",
       "      <th>998</th>\n",
       "      <td>02d123388fbdf6da1466253313fe6641595c291c</td>\n",
       "      <td>By . Rob Cooper . Last updated at 5:05 PM on 2...</td>\n",
       "      <td>High-speed bed is fitted with a V8 600bhp engi...</td>\n",
       "    </tr>\n",
       "    <tr>\n",
       "      <th>999</th>\n",
       "      <td>02d13195c2ac5c61415b40c45712c943d9290164</td>\n",
       "      <td>Liverpool manager Brendan Rodgers felt Everton...</td>\n",
       "      <td>Everton ace Gareth Barry was lucky to escape a...</td>\n",
       "    </tr>\n",
       "  </tbody>\n",
       "</table>\n",
       "<p>329 rows × 3 columns</p>\n",
       "</div>"
      ],
      "text/plain": [
       "                                           id  \\\n",
       "0    0001d1afc246a7964130f43ae940af6bc6c57f01   \n",
       "1    0002095e55fcbd3a2f366d9bf92a95433dc305ef   \n",
       "5    0004306354494f090ee2d7bc5ddbf80b63e80de6   \n",
       "13   000cd1ee0098c4d510a03ddc97d11764448ebac2   \n",
       "15   001097a19e2c96de11276b3cce11566ccfed0030   \n",
       "..                                        ...   \n",
       "988  02c600858dcc92bf6b460ad67098f97e1c594f8f   \n",
       "994  02c971cf94ad3b1696742544778f06cf8a2b1c23   \n",
       "996  02ce5810b37842c00ae90b6c7b70dbf686cd865f   \n",
       "998  02d123388fbdf6da1466253313fe6641595c291c   \n",
       "999  02d13195c2ac5c61415b40c45712c943d9290164   \n",
       "\n",
       "                                               article  \\\n",
       "0    By . Associated Press . PUBLISHED: . 14:11 EST...   \n",
       "1    (CNN) -- Ralph Mata was an internal affairs li...   \n",
       "5    He's been accused of making many a fashion fau...   \n",
       "13   Louis van Gaal said he had no option but to su...   \n",
       "15   For most people, it has become a travel essent...   \n",
       "..                                                 ...   \n",
       "988  By . Steve Nolan . PUBLISHED: . 00:59 EST, 7 O...   \n",
       "994  The owners of a $4million Cincinnati mansion t...   \n",
       "996  By . Leon Watson and Sebastian Lander . PUBLIS...   \n",
       "998  By . Rob Cooper . Last updated at 5:05 PM on 2...   \n",
       "999  Liverpool manager Brendan Rodgers felt Everton...   \n",
       "\n",
       "                                            highlights  \n",
       "0    Bishop John Folda, of North Dakota, is taking ...  \n",
       "1    Criminal complaint: Cop used his role to help ...  \n",
       "5    Prime Minister and his family are enjoying an ...  \n",
       "13   Manchester United beat Southampton 2-1 at St M...  \n",
       "15   Half of Brits admit to checking work e-mails w...  \n",
       "..                                                 ...  \n",
       "988  Foreign patients will have to prove they are l...  \n",
       "994  Jeffrey Decker and wife Maria claim their insu...  \n",
       "996  Figures released by ABTA show Britons took few...  \n",
       "998  High-speed bed is fitted with a V8 600bhp engi...  \n",
       "999  Everton ace Gareth Barry was lucky to escape a...  \n",
       "\n",
       "[329 rows x 3 columns]"
      ]
     },
     "execution_count": 27,
     "metadata": {},
     "output_type": "execute_result"
    }
   ],
   "source": [
    "# text_length_words = train_df[text_column].str.split().str.len()\n",
    "\n",
    "rr = train_df[:1000].copy()\n",
    "\n",
    "text_length_words = rr[\"article\"].str.split().str.len()\n",
    "tt = rr[text_length_words <= 500]\n",
    "\n",
    "tt\n",
    "\n",
    "# e = train_df[\"article\"][:10000].str.split().str.len()\n",
    "\n",
    "# train_df = train_df[e <= 500]"
   ]
  },
  {
   "cell_type": "code",
   "execution_count": null,
   "id": "c917bc17",
   "metadata": {},
   "outputs": [],
   "source": []
  },
  {
   "cell_type": "markdown",
   "id": "2e33542c",
   "metadata": {},
   "source": [
    "## **3. Basic Exploration**"
   ]
  },
  {
   "cell_type": "markdown",
   "id": "22236bd8",
   "metadata": {},
   "source": [
    "### 3.1 Data info"
   ]
  },
  {
   "cell_type": "code",
   "execution_count": 4,
   "id": "8d578b09",
   "metadata": {},
   "outputs": [
    {
     "data": {
      "text/html": [
       "<div>\n",
       "<style scoped>\n",
       "    .dataframe tbody tr th:only-of-type {\n",
       "        vertical-align: middle;\n",
       "    }\n",
       "\n",
       "    .dataframe tbody tr th {\n",
       "        vertical-align: top;\n",
       "    }\n",
       "\n",
       "    .dataframe thead th {\n",
       "        text-align: right;\n",
       "    }\n",
       "</style>\n",
       "<table border=\"1\" class=\"dataframe\">\n",
       "  <thead>\n",
       "    <tr style=\"text-align: right;\">\n",
       "      <th></th>\n",
       "      <th>id</th>\n",
       "      <th>article</th>\n",
       "      <th>highlights</th>\n",
       "    </tr>\n",
       "  </thead>\n",
       "  <tbody>\n",
       "    <tr>\n",
       "      <th>0</th>\n",
       "      <td>0001d1afc246a7964130f43ae940af6bc6c57f01</td>\n",
       "      <td>By . Associated Press . PUBLISHED: . 14:11 EST...</td>\n",
       "      <td>Bishop John Folda, of North Dakota, is taking ...</td>\n",
       "    </tr>\n",
       "    <tr>\n",
       "      <th>1</th>\n",
       "      <td>0002095e55fcbd3a2f366d9bf92a95433dc305ef</td>\n",
       "      <td>(CNN) -- Ralph Mata was an internal affairs li...</td>\n",
       "      <td>Criminal complaint: Cop used his role to help ...</td>\n",
       "    </tr>\n",
       "    <tr>\n",
       "      <th>2</th>\n",
       "      <td>00027e965c8264c35cc1bc55556db388da82b07f</td>\n",
       "      <td>A drunk driver who killed a young woman in a h...</td>\n",
       "      <td>Craig Eccleston-Todd, 27, had drunk at least t...</td>\n",
       "    </tr>\n",
       "    <tr>\n",
       "      <th>3</th>\n",
       "      <td>0002c17436637c4fe1837c935c04de47adb18e9a</td>\n",
       "      <td>(CNN) -- With a breezy sweep of his pen Presid...</td>\n",
       "      <td>Nina dos Santos says Europe must be ready to a...</td>\n",
       "    </tr>\n",
       "    <tr>\n",
       "      <th>4</th>\n",
       "      <td>0003ad6ef0c37534f80b55b4235108024b407f0b</td>\n",
       "      <td>Fleetwood are the only team still to have a 10...</td>\n",
       "      <td>Fleetwood top of League One after 2-0 win at S...</td>\n",
       "    </tr>\n",
       "  </tbody>\n",
       "</table>\n",
       "</div>"
      ],
      "text/plain": [
       "                                         id  \\\n",
       "0  0001d1afc246a7964130f43ae940af6bc6c57f01   \n",
       "1  0002095e55fcbd3a2f366d9bf92a95433dc305ef   \n",
       "2  00027e965c8264c35cc1bc55556db388da82b07f   \n",
       "3  0002c17436637c4fe1837c935c04de47adb18e9a   \n",
       "4  0003ad6ef0c37534f80b55b4235108024b407f0b   \n",
       "\n",
       "                                             article  \\\n",
       "0  By . Associated Press . PUBLISHED: . 14:11 EST...   \n",
       "1  (CNN) -- Ralph Mata was an internal affairs li...   \n",
       "2  A drunk driver who killed a young woman in a h...   \n",
       "3  (CNN) -- With a breezy sweep of his pen Presid...   \n",
       "4  Fleetwood are the only team still to have a 10...   \n",
       "\n",
       "                                          highlights  \n",
       "0  Bishop John Folda, of North Dakota, is taking ...  \n",
       "1  Criminal complaint: Cop used his role to help ...  \n",
       "2  Craig Eccleston-Todd, 27, had drunk at least t...  \n",
       "3  Nina dos Santos says Europe must be ready to a...  \n",
       "4  Fleetwood top of League One after 2-0 win at S...  "
      ]
     },
     "execution_count": 4,
     "metadata": {},
     "output_type": "execute_result"
    }
   ],
   "source": [
    "train_df.head() # First 5 rows of the training data"
   ]
  },
  {
   "cell_type": "code",
   "execution_count": 5,
   "id": "c6f6cdce",
   "metadata": {},
   "outputs": [
    {
     "data": {
      "text/plain": [
       "((287113, 3), (11490, 3))"
      ]
     },
     "execution_count": 5,
     "metadata": {},
     "output_type": "execute_result"
    }
   ],
   "source": [
    "train_df.shape , test_df.shape"
   ]
  },
  {
   "cell_type": "markdown",
   "id": "ce97fdf0",
   "metadata": {},
   "source": [
    "- Train data\n",
    "    - Number of **rows**: 287113\n",
    "    - Number of **columns**: 3\n",
    "- Test data\n",
    "    - Number of **rows**: 11490\n",
    "    - Number of **columns**: 3"
   ]
  },
  {
   "cell_type": "code",
   "execution_count": 6,
   "id": "316edee7",
   "metadata": {},
   "outputs": [
    {
     "name": "stdout",
     "output_type": "stream",
     "text": [
      "<class 'pandas.core.frame.DataFrame'>\n",
      "RangeIndex: 287113 entries, 0 to 287112\n",
      "Data columns (total 3 columns):\n",
      " #   Column      Non-Null Count   Dtype \n",
      "---  ------      --------------   ----- \n",
      " 0   id          287113 non-null  object\n",
      " 1   article     287113 non-null  object\n",
      " 2   highlights  287113 non-null  object\n",
      "dtypes: object(3)\n",
      "memory usage: 6.6+ MB\n"
     ]
    }
   ],
   "source": [
    "train_df.info() # Information about the training data"
   ]
  },
  {
   "cell_type": "code",
   "execution_count": 7,
   "id": "8cfe2052",
   "metadata": {},
   "outputs": [
    {
     "data": {
      "text/plain": [
       "Index(['id', 'article', 'highlights'], dtype='object')"
      ]
     },
     "execution_count": 7,
     "metadata": {},
     "output_type": "execute_result"
    }
   ],
   "source": [
    "train_df.columns"
   ]
  },
  {
   "cell_type": "code",
   "execution_count": 8,
   "id": "fc42755f",
   "metadata": {},
   "outputs": [
    {
     "data": {
      "text/plain": [
       "id            object\n",
       "article       object\n",
       "highlights    object\n",
       "dtype: object"
      ]
     },
     "execution_count": 8,
     "metadata": {},
     "output_type": "execute_result"
    }
   ],
   "source": [
    "train_df.dtypes"
   ]
  },
  {
   "cell_type": "markdown",
   "id": "7bec02eb",
   "metadata": {},
   "source": [
    "### 3.2 Missing values"
   ]
  },
  {
   "cell_type": "code",
   "execution_count": 9,
   "id": "75cb0cc8",
   "metadata": {},
   "outputs": [
    {
     "data": {
      "text/plain": [
       "id            0\n",
       "article       0\n",
       "highlights    0\n",
       "dtype: int64"
      ]
     },
     "execution_count": 9,
     "metadata": {},
     "output_type": "execute_result"
    }
   ],
   "source": [
    "train_df.isna().sum() # Check for missing values in the training data"
   ]
  },
  {
   "cell_type": "code",
   "execution_count": 10,
   "id": "7979508b",
   "metadata": {},
   "outputs": [
    {
     "data": {
      "text/plain": [
       "id            0\n",
       "article       0\n",
       "highlights    0\n",
       "dtype: int64"
      ]
     },
     "execution_count": 10,
     "metadata": {},
     "output_type": "execute_result"
    }
   ],
   "source": [
    "test_df.isna().sum() # Check for missing values in the test data"
   ]
  },
  {
   "cell_type": "markdown",
   "id": "d2feda8f",
   "metadata": {},
   "source": [
    "- No missing values in train and test data."
   ]
  },
  {
   "cell_type": "markdown",
   "id": "210f5b91",
   "metadata": {},
   "source": [
    "### 3.3 Duplicates"
   ]
  },
  {
   "cell_type": "code",
   "execution_count": 11,
   "id": "a713c766",
   "metadata": {},
   "outputs": [
    {
     "data": {
      "text/plain": [
       "np.int64(0)"
      ]
     },
     "execution_count": 11,
     "metadata": {},
     "output_type": "execute_result"
    }
   ],
   "source": [
    "train_df.duplicated().sum() # Check for duplicate rows in the training data\n"
   ]
  },
  {
   "cell_type": "code",
   "execution_count": 12,
   "id": "c9fcff70",
   "metadata": {},
   "outputs": [
    {
     "data": {
      "text/plain": [
       "np.int64(0)"
      ]
     },
     "execution_count": 12,
     "metadata": {},
     "output_type": "execute_result"
    }
   ],
   "source": [
    "test_df.duplicated().sum() # Check for duplicate rows in the test data"
   ]
  },
  {
   "cell_type": "markdown",
   "id": "01697fbd",
   "metadata": {},
   "source": [
    "- No duplicate rows in train and test data."
   ]
  },
  {
   "cell_type": "markdown",
   "id": "546a7a1f",
   "metadata": {},
   "source": [
    "## **4. Explore Text**"
   ]
  },
  {
   "cell_type": "code",
   "execution_count": null,
   "id": "1d0df5cc",
   "metadata": {},
   "outputs": [
    {
     "data": {
      "text/html": [
       "<div>\n",
       "<style scoped>\n",
       "    .dataframe tbody tr th:only-of-type {\n",
       "        vertical-align: middle;\n",
       "    }\n",
       "\n",
       "    .dataframe tbody tr th {\n",
       "        vertical-align: top;\n",
       "    }\n",
       "\n",
       "    .dataframe thead th {\n",
       "        text-align: right;\n",
       "    }\n",
       "</style>\n",
       "<table border=\"1\" class=\"dataframe\">\n",
       "  <thead>\n",
       "    <tr style=\"text-align: right;\">\n",
       "      <th></th>\n",
       "      <th>id</th>\n",
       "      <th>article</th>\n",
       "      <th>highlights</th>\n",
       "    </tr>\n",
       "  </thead>\n",
       "  <tbody>\n",
       "    <tr>\n",
       "      <th>0</th>\n",
       "      <td>0001d1afc246a7964130f43ae940af6bc6c57f01</td>\n",
       "      <td>By . Associated Press . PUBLISHED: . 14:11 EST...</td>\n",
       "      <td>Bishop John Folda, of North Dakota, is taking ...</td>\n",
       "    </tr>\n",
       "    <tr>\n",
       "      <th>1</th>\n",
       "      <td>0002095e55fcbd3a2f366d9bf92a95433dc305ef</td>\n",
       "      <td>(CNN) -- Ralph Mata was an internal affairs li...</td>\n",
       "      <td>Criminal complaint: Cop used his role to help ...</td>\n",
       "    </tr>\n",
       "    <tr>\n",
       "      <th>2</th>\n",
       "      <td>00027e965c8264c35cc1bc55556db388da82b07f</td>\n",
       "      <td>A drunk driver who killed a young woman in a h...</td>\n",
       "      <td>Craig Eccleston-Todd, 27, had drunk at least t...</td>\n",
       "    </tr>\n",
       "  </tbody>\n",
       "</table>\n",
       "</div>"
      ],
      "text/plain": [
       "                                         id  \\\n",
       "0  0001d1afc246a7964130f43ae940af6bc6c57f01   \n",
       "1  0002095e55fcbd3a2f366d9bf92a95433dc305ef   \n",
       "2  00027e965c8264c35cc1bc55556db388da82b07f   \n",
       "\n",
       "                                             article  \\\n",
       "0  By . Associated Press . PUBLISHED: . 14:11 EST...   \n",
       "1  (CNN) -- Ralph Mata was an internal affairs li...   \n",
       "2  A drunk driver who killed a young woman in a h...   \n",
       "\n",
       "                                          highlights  \n",
       "0  Bishop John Folda, of North Dakota, is taking ...  \n",
       "1  Criminal complaint: Cop used his role to help ...  \n",
       "2  Craig Eccleston-Todd, 27, had drunk at least t...  "
      ]
     },
     "execution_count": 15,
     "metadata": {},
     "output_type": "execute_result"
    }
   ],
   "source": [
    "train_df.head(3)    "
   ]
  },
  {
   "cell_type": "code",
   "execution_count": 13,
   "id": "6160b022",
   "metadata": {},
   "outputs": [
    {
     "name": "stdout",
     "output_type": "stream",
     "text": [
      "By . Associated Press . PUBLISHED: . 14:11 EST, 25 October 2013 . | . UPDATED: . 15:36 EST, 25 October 2013 . The bishop of the Fargo Catholic Diocese in North Dakota has exposed potentially hundreds of church members in Fargo, Grand Forks and Jamestown to the hepatitis A virus in late September and early October. The state Health Department has issued an advisory of exposure for anyone who attended five churches and took communion. Bishop John Folda (pictured) of the Fargo Catholic Diocese in North Dakota has exposed potentially hundreds of church members in Fargo, Grand Forks and Jamestown to the hepatitis A . State Immunization Program Manager Molly Howell says the risk is low, but officials feel it's important to alert people to the possible exposure. The diocese announced on Monday that Bishop John Folda is taking time off after being diagnosed with hepatitis A. The diocese says he contracted the infection through contaminated food while attending a conference for newly ordained bishops in Italy last month. Symptoms of hepatitis A include fever, tiredness, loss of appetite, nausea and abdominal discomfort. Fargo Catholic Diocese in North Dakota (pictured) is where the bishop is located .\n"
     ]
    }
   ],
   "source": [
    "print(train_df[\"article\"][0])"
   ]
  },
  {
   "cell_type": "code",
   "execution_count": 14,
   "id": "f850669e",
   "metadata": {},
   "outputs": [
    {
     "name": "stdout",
     "output_type": "stream",
     "text": [
      "Bishop John Folda, of North Dakota, is taking time off after being diagnosed .\n",
      "He contracted the infection through contaminated food in Italy .\n",
      "Church members in Fargo, Grand Forks and Jamestown could have been exposed .\n"
     ]
    }
   ],
   "source": [
    "print(train_df[\"highlights\"][0])"
   ]
  },
  {
   "cell_type": "code",
   "execution_count": 17,
   "id": "b6875805",
   "metadata": {},
   "outputs": [
    {
     "data": {
      "text/plain": [
       "\"There are a number of job descriptions waiting for Darren Fletcher when he settles in at West Brom but the one he might not have expected is Saido Berahino’s nanny. Fletcher’s unveiling as the deadline day signing from Manchester United was almost eclipsed by the 21-year-old striker, who is acquiring the habit of talking himself into trouble. Ten years Berahino’s senior, Fletcher will be expected to mentor a player who told the world this week that he wanted to play for a bigger club. Tony Pulis has advised Saido Berahino to focus on his performances at West Brom . Darren Fletcher has signed for the baggies where he will be asked to provide a role model for young players . That is off the pitch. On it, the Scotland midfielder wants to prove he is good enough to cut the mustard in the Premier League after finding starts harder and harder to come by at Old Trafford. Head coach Tony Pulis believes that Fletcher, who has agreed a three-and-a-half year contract, will be captain of Albion one day. Having checked with Sir Alex Ferguson last year when he was Crystal Palace, Pulis did not need any more due diligence before moving in when a deal with West Ham collapsed. Pulis wants Fletcher to be his voice in the dressing room, especially when it comes to the younger players who may be led astray. Berahino has caught the eye with impressive performances at West Brom and suggested he could move on . Berahino’s latest outburst this week comes after he was found guilty of drink-driving and after he moodly refused to celebrate a hat-trick against Gateshead. ‘Things are not what they used to be,’ added Pulis. ‘The mentors for these young lads are just not there. These kids need guides and mentors so that the youngsters can respect them and take notice. ‘I think Fletch will be critical to that sort of stuff but give him time to settle in. As a character, having worked with him for a week, he is first class. He got through his illness with flying colours and I see him as a future captain of the club.’ As for Berahino, he will escape a fine. ‘He's been in a naughty chair. That's in my office,’ joked Pulis, although the underlying message was rather more serious. ‘We've had no phone calls. He needs to stop listening to all the kerfuffle.. This is a great football club with great players. And Saido has not become that yet. Pulis praised recent recruit Darren Fletcher and feels he could be an ideal role model for Berahino . ‘The question was whether would he like to play in a top four team and everyone wants that. His responsibility is to work for us until that happens. ‘I've spoken to him and his people. He has to do it rather than talk about it. That's what good players do and then clubs will be interested. He's done an interview but not for what he was supposed to be talking about.’ Fletcher has already been impressed by Berahino on the training ground but admitted: ‘The lads have gone straight into him. He has said something and he will learn from it. ‘He loves West Brom and wants to do well. He’s a young player who said something he shouldn’t and he probably regrets it. I’ve done that, all young players do that. ‘On first impressions he looks very sharp, a real goalscorer. He’s not shy!. Giving me orders straight away because he wants to score goals. He’s a nice kid welcoming, respectful and can be big influence for rest of season.’\""
      ]
     },
     "execution_count": 17,
     "metadata": {},
     "output_type": "execute_result"
    }
   ],
   "source": [
    "train_df[\"article\"][8]"
   ]
  },
  {
   "cell_type": "code",
   "execution_count": 18,
   "id": "0ffbd8ee",
   "metadata": {},
   "outputs": [
    {
     "data": {
      "text/plain": [
       "'Tony Pulis believes Saido Berahino should look up to Darren Fletcher .\\nPulis insists Berahino has been listened to the wrong advice .\\nBerahino said he wants to move on to bigger things earlier in the week .\\nREAD: Berahino available for £20m after Liverpool target angers club .\\nCLICK HERE for all the latest West Brom news .'"
      ]
     },
     "execution_count": 18,
     "metadata": {},
     "output_type": "execute_result"
    }
   ],
   "source": [
    "train_df[\"highlights\"][8]"
   ]
  },
  {
   "cell_type": "code",
   "execution_count": null,
   "id": "5ebd2724",
   "metadata": {},
   "outputs": [],
   "source": []
  }
 ],
 "metadata": {
  "kernelspec": {
   "display_name": ".venv",
   "language": "python",
   "name": "python3"
  },
  "language_info": {
   "codemirror_mode": {
    "name": "ipython",
    "version": 3
   },
   "file_extension": ".py",
   "mimetype": "text/x-python",
   "name": "python",
   "nbconvert_exporter": "python",
   "pygments_lexer": "ipython3",
   "version": "3.13.5"
  }
 },
 "nbformat": 4,
 "nbformat_minor": 5
}
